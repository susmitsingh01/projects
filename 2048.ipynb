{
 "cells": [
  {
   "cell_type": "code",
   "execution_count": 5,
   "metadata": {},
   "outputs": [
    {
     "ename": "ModuleNotFoundError",
     "evalue": "No module named 'LogicsFinal'",
     "output_type": "error",
     "traceback": [
      "\u001b[1;31m---------------------------------------------------------------------------\u001b[0m",
      "\u001b[1;31mModuleNotFoundError\u001b[0m                       Traceback (most recent call last)",
      "\u001b[1;32m<ipython-input-5-3db80794c4d0>\u001b[0m in \u001b[0;36m<module>\u001b[1;34m\u001b[0m\n\u001b[0;32m      1\u001b[0m \u001b[1;32mfrom\u001b[0m \u001b[0mtkinter\u001b[0m \u001b[1;32mimport\u001b[0m \u001b[0mFrame\u001b[0m\u001b[1;33m,\u001b[0m\u001b[0mLabel\u001b[0m\u001b[1;33m,\u001b[0m\u001b[0mCENTER\u001b[0m\u001b[1;33m\u001b[0m\u001b[1;33m\u001b[0m\u001b[0m\n\u001b[0;32m      2\u001b[0m \u001b[1;33m\u001b[0m\u001b[0m\n\u001b[1;32m----> 3\u001b[1;33m \u001b[1;32mimport\u001b[0m \u001b[0mLogicsFinal\u001b[0m\u001b[1;33m\u001b[0m\u001b[1;33m\u001b[0m\u001b[0m\n\u001b[0m\u001b[0;32m      4\u001b[0m \u001b[1;32mimport\u001b[0m \u001b[0mconstants\u001b[0m \u001b[1;32mas\u001b[0m \u001b[0mc\u001b[0m\u001b[1;33m\u001b[0m\u001b[1;33m\u001b[0m\u001b[0m\n\u001b[0;32m      5\u001b[0m \u001b[1;33m\u001b[0m\u001b[0m\n",
      "\u001b[1;31mModuleNotFoundError\u001b[0m: No module named 'LogicsFinal'"
     ]
    }
   ],
   "source": [
    "from tkinter import Frame,Label,CENTER\n",
    "\n",
    "import LogicsFinal\n",
    "import constants as c\n",
    "\n",
    "class Game2048(Frame):\n",
    "    def __init__(self):\n",
    "        Frame__init__(self)\n",
    "        \n",
    "        self.grid()\n",
    "        self.master.title('2048')\n",
    "        self.master.bind(\"<key>\",self.key_down)\n",
    "        self.commands = {c.KEY_UP :LogicsFinal.move_up, c.KEY_DOWN :LogicsFinal.move_down, c.KEY_RIGHT :LogicsFinal.move_right, c.KEY_LEFT :LogicsFinal.move_left}\n",
    "        \n",
    "        self.grid_cells = []\n",
    "        self.init_grid()\n",
    "        self.init_matrix()\n",
    "        self.update_grid_cells()\n",
    "        \n",
    "        self.mainloop()\n",
    "        \n",
    "    def init__grid(self):\n",
    "        background = Frame(self, bg = c.BACKGROUND_COLOR_GAME, width = c.SIZE, height = c.SIZE)\n",
    "        background.grid()\n",
    "        \n",
    "        for i in range(c.GRID_LEN):\n",
    "            grid_row = []\n",
    "            for j in range(c.GRID_LEN):\n",
    "                cell = Frame(background, bg = c.BACKGROUND_COLOR_CELL_EMPTY, width = c.SIZE/c.GRID_LEN, height = c.SIZE/c.GRID_LEN )\n",
    "                cell.grid(row = i,column = j, padx = c.GRID_PADDING, PADY = GRID_PADDING)\n",
    "                t = Label(master = cell, text=\"\",bg = c.BACKGROUND_COLOR_CELL_EMPTY, justify = CENTER, font = c.FONT, width = 5, height = 2)\n",
    "                t.grid()\n",
    "                grid_row.append(t)\n",
    "            self.grid_cells.append(grid_row)\n",
    "    \n",
    "    def init_matrix(self):\n",
    "        self.matrix = LogicsFinal.start_game()\n",
    "        LogicsFinal.add_new_2(self.matrix)\n",
    "        LogicsFinal.add_new_2(self.matrix)\n",
    "        \n",
    "    def update_grid_cells(self):\n",
    "        for i in range(c.GRID_LEN):\n",
    "            for j in range(c.GRID_LEN):\n",
    "                new_number = self.matrix[i][j]\n",
    "                if new_number == 0:\n",
    "                    self.grid_cells[i][j].configure(text ='', bg = c.BACKGROUND_COLOR_CELL_EMPTY)\n",
    "                else:\n",
    "                    self.grid_cells[i][j].configure(text ='str(new_number)', bg = c.BACKGROUND_COLOR_DICT[new_number],fg = c.CELL_COLOR_DICT[new_number])\n",
    "        self.update_idletasks()            \n",
    "        \n",
    "    def key_down(self,event):\n",
    "        key = repr(event.char)\n",
    "        if key in self.commands:\n",
    "            self.matrix, changed = self.commands[repr(event.char)](self.matrix)\n",
    "            if changed:\n",
    "                LogicsFinal.add_new_2(self.matrix)\n",
    "                self.update_grid_cells()\n",
    "                changed = False\n",
    "                if LogicsFinal.current_game_state(self.matrix)  =='WON':\n",
    "                    self.grid_cells[1][1].configure(text = 'You', bg = c.BACKGROUND_COLOR_CELL_EMPTY)\n",
    "                    self.grid_cells[1][2].configure(text = 'Win', bg = c.BACKGROUND_COLOR_CELL_EMPTY)\n",
    "                if LogicsFinal.current_game_state(self.matrix)  =='LOST':\n",
    "                    self.grid_cells[1][1].configure(text = 'You', bg = c.BACKGROUND_COLOR_CELL_EMPTY)\n",
    "                    self.grid_cells[1][2].configure(text = 'Lose', bg = c.BACKGROUND_COLOR_CELL_EMPTY)\n",
    "                    \n",
    "                    \n",
    "                    \n",
    "gamegrid = Game2048()"
   ]
  },
  {
   "cell_type": "code",
   "execution_count": null,
   "metadata": {},
   "outputs": [],
   "source": []
  }
 ],
 "metadata": {
  "kernelspec": {
   "display_name": "Python 3",
   "language": "python",
   "name": "python3"
  },
  "language_info": {
   "codemirror_mode": {
    "name": "ipython",
    "version": 3
   },
   "file_extension": ".py",
   "mimetype": "text/x-python",
   "name": "python",
   "nbconvert_exporter": "python",
   "pygments_lexer": "ipython3",
   "version": "3.7.6"
  }
 },
 "nbformat": 4,
 "nbformat_minor": 4
}
