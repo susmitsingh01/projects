{
 "cells": [
  {
   "cell_type": "code",
   "execution_count": null,
   "metadata": {},
   "outputs": [],
   "source": [
    "SIZE = 400\n",
    "GRID_LEN = 4\n",
    "GRID_PADDING = 10\n",
    "\n",
    "BACKGROUND_COLOR_GAME = '#92877d'\n",
    "BACKGROUND_COLOR_CELL_EMPTY = '#9e948a'\n",
    "\n",
    "BACKGROUND_COLOR_DICT = {2:'eee4da',4:'eee4da',8:'eee4da',16:'eee4da',32:'eee4da',64:'eee4da',128:'eee4da',256:'eee4da',512:'eee4da',1024:'eee4da',2048:'eee4da'}\n",
    "\n",
    "CELL_COLOR_DICT = {2:'776e65',4:'776e65',8:'776e65',16:'776e65',32:'776e65',64:'776e65',128:'776e65',256:'776e65',512:'776e65',1024:'776e65',2048:'776e65'}\n",
    "\n",
    "FONT = ('Verdana', 40, 'bold')\n",
    "\n",
    "KEY_UP = \"'w'\"\n",
    "KEY_DOWN = \"'s'\"\n",
    "KEY_RIGHT = \"'d'\"\n",
    "KEY_LEFT = \"'a'\""
   ]
  }
 ],
 "metadata": {
  "kernelspec": {
   "display_name": "Python 3",
   "language": "python",
   "name": "python3"
  },
  "language_info": {
   "codemirror_mode": {
    "name": "ipython",
    "version": 3
   },
   "file_extension": ".py",
   "mimetype": "text/x-python",
   "name": "python",
   "nbconvert_exporter": "python",
   "pygments_lexer": "ipython3",
   "version": "3.7.6"
  }
 },
 "nbformat": 4,
 "nbformat_minor": 4
}
